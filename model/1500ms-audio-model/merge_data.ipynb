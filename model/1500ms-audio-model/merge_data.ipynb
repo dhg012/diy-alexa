{
 "cells": [
  {
   "cell_type": "code",
   "execution_count": 2,
   "id": "78bd59f1-0412-4082-9537-846c2a173c79",
   "metadata": {
    "tags": []
   },
   "outputs": [],
   "source": [
    "import numpy as np\n"
   ]
  },
  {
   "cell_type": "code",
   "execution_count": 3,
   "id": "b28deaae-f90c-41ff-96f8-07b1ec5b445b",
   "metadata": {
    "tags": []
   },
   "outputs": [],
   "source": [
    "training_spectrogram_files = ['hikiwi-training_spectrogram.npz', 'base-training_spectrogram.npz']\n",
    "validation_spectrogram_files = ['hikiwi-validation_spectrogram.npz', 'base-validation_spectrogram.npz']\n",
    "test_spectrogram_files = ['hikiwi-test_spectrogram.npz', 'base-test_spectrogram.npz']"
   ]
  },
  {
   "cell_type": "code",
   "execution_count": 4,
   "id": "b1689453-7450-47c6-8d08-8aadf94927e9",
   "metadata": {
    "tags": []
   },
   "outputs": [],
   "source": [
    "X_train = []\n",
    "Y_train = []\n",
    "X_validate = []\n",
    "Y_validate = []\n",
    "X_test = []\n",
    "Y_test = []"
   ]
  },
  {
   "cell_type": "code",
   "execution_count": 5,
   "id": "7c62c9cf-da92-431e-85f0-8711cee39a34",
   "metadata": {
    "tags": []
   },
   "outputs": [],
   "source": [
    "def get_spectrogram_data(data_files, data_arr_X, data_arr_Y):\n",
    "    for data_file in data_files:\n",
    "        data = np.load(data_file)\n",
    "        data_arr_X.extend(data['X'])\n",
    "        data_arr_Y.extend(data['Y'])\n",
    "\n",
    "    "
   ]
  },
  {
   "cell_type": "code",
   "execution_count": 6,
   "id": "859f9f2f-cb1b-4ad3-9d26-57a09c6267cd",
   "metadata": {
    "tags": []
   },
   "outputs": [
    {
     "ename": "TypeError",
     "evalue": "slice indices must be integers or None or have an __index__ method",
     "output_type": "error",
     "traceback": [
      "\u001b[0;31m---------------------------------------------------------------------------\u001b[0m",
      "\u001b[0;31mTypeError\u001b[0m                                 Traceback (most recent call last)",
      "Cell \u001b[0;32mIn[6], line 6\u001b[0m\n\u001b[1;32m      4\u001b[0m Y_train \u001b[38;5;241m=\u001b[39m []\n\u001b[1;32m      5\u001b[0m np\u001b[38;5;241m.\u001b[39mrandom\u001b[38;5;241m.\u001b[39mshuffle(c_arr)\n\u001b[0;32m----> 6\u001b[0m c_arr \u001b[38;5;241m=\u001b[39m \u001b[43mc_arr\u001b[49m\u001b[43m[\u001b[49m\u001b[43m:\u001b[49m\u001b[38;5;28;43mlen\u001b[39;49m\u001b[43m(\u001b[49m\u001b[43mc_arr\u001b[49m\u001b[43m)\u001b[49m\u001b[38;5;241;43m/\u001b[39;49m\u001b[38;5;241;43m2\u001b[39;49m\u001b[43m]\u001b[49m\n\u001b[1;32m      7\u001b[0m X_train, Y_train \u001b[38;5;241m=\u001b[39m \u001b[38;5;28mzip\u001b[39m(\u001b[38;5;241m*\u001b[39mc_arr)\n\u001b[1;32m      8\u001b[0m \u001b[38;5;66;03m# save the computed data\u001b[39;00m\n",
      "\u001b[0;31mTypeError\u001b[0m: slice indices must be integers or None or have an __index__ method"
     ]
    }
   ],
   "source": [
    "get_spectrogram_data(training_spectrogram_files, X_train, Y_train)\n",
    "c_arr = list(zip(X_train, Y_train))\n",
    "X_train = []\n",
    "Y_train = []\n",
    "np.random.shuffle(c_arr)\n",
    "# c_arr = c_arr[:int(len(c_arr)/2)]\n",
    "X_train, Y_train = zip(*c_arr)\n",
    "# save the computed data\n",
    "np.savez_compressed(\n",
    "    \"merged-training_spectrogram.npz\",\n",
    "    X=X_train, Y=Y_train)\n",
    "print(\"Saved training data\")\n"
   ]
  },
  {
   "cell_type": "code",
   "execution_count": 8,
   "id": "86e445e1-b43e-4db3-bf06-4e7b766a04a5",
   "metadata": {
    "tags": []
   },
   "outputs": [
    {
     "name": "stdout",
     "output_type": "stream",
     "text": [
      "Saved training data\n"
     ]
    }
   ],
   "source": [
    "\n"
   ]
  },
  {
   "cell_type": "code",
   "execution_count": 6,
   "id": "bea27b4b-c9dc-4d33-9c5f-aaa42835be44",
   "metadata": {
    "tags": []
   },
   "outputs": [],
   "source": [
    "# train = np.load(training_spectrogram_files[0])"
   ]
  },
  {
   "cell_type": "code",
   "execution_count": 9,
   "id": "6c2f2dc7-8f17-4653-809d-e22c0a2ea7c0",
   "metadata": {
    "tags": []
   },
   "outputs": [],
   "source": [
    "# train\n",
    "len(X_train)\n",
    "X_train = []\n",
    "Y_train = []"
   ]
  },
  {
   "cell_type": "code",
   "execution_count": 8,
   "id": "eb3c25e5-86e6-401c-9f2e-6558d7984d91",
   "metadata": {
    "tags": []
   },
   "outputs": [
    {
     "name": "stdout",
     "output_type": "stream",
     "text": [
      "Saved validation data\n"
     ]
    }
   ],
   "source": [
    "\n",
    "\n",
    "get_spectrogram_data(validation_spectrogram_files, X_validate, Y_validate)\n",
    "\n",
    "c_arr = list(zip(X_validate, Y_validate))\n",
    "X_validate = []\n",
    "Y_validate = []\n",
    "np.random.shuffle(c_arr)\n",
    "X_validate, Y_validate = zip(*c_arr)\n",
    "\n",
    "np.savez_compressed(\n",
    "    \"merged-validation_spectrogram.npz\",\n",
    "    X=X_validate, Y=Y_validate)\n",
    "print(\"Saved validation data\")\n",
    "\n",
    "X_validate = []\n",
    "Y_validate = []\n",
    "\n"
   ]
  },
  {
   "cell_type": "code",
   "execution_count": 9,
   "id": "3de927c3-cc0d-445c-971e-4d84cd941d30",
   "metadata": {},
   "outputs": [
    {
     "name": "stdout",
     "output_type": "stream",
     "text": [
      "Saved test data\n"
     ]
    }
   ],
   "source": [
    "get_spectrogram_data(test_spectrogram_files, X_test, Y_test)\n",
    "\n",
    "c_arr = list(zip(X_test, Y_test))\n",
    "X_test = []\n",
    "Y_test = []\n",
    "np.random.shuffle(c_arr)\n",
    "X_test, Y_test = zip(*c_arr)\n",
    "\n",
    "\n",
    "np.savez_compressed(\n",
    "    \"merged-test_spectrogram.npz\",\n",
    "    X=X_test, Y=Y_test)\n",
    "print(\"Saved test data\")\n",
    "\n",
    "X_test = []\n",
    "Y_test = []"
   ]
  },
  {
   "cell_type": "code",
   "execution_count": null,
   "id": "7678bdb5-e2b8-4df3-94f3-4d5605973a7f",
   "metadata": {},
   "outputs": [],
   "source": []
  }
 ],
 "metadata": {
  "kernelspec": {
   "display_name": "Python 3 (ipykernel)",
   "language": "python",
   "name": "python3"
  },
  "language_info": {
   "codemirror_mode": {
    "name": "ipython",
    "version": 3
   },
   "file_extension": ".py",
   "mimetype": "text/x-python",
   "name": "python",
   "nbconvert_exporter": "python",
   "pygments_lexer": "ipython3",
   "version": "3.8.16"
  }
 },
 "nbformat": 4,
 "nbformat_minor": 5
}
