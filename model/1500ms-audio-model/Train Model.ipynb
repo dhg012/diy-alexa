{
 "cells": [
  {
   "cell_type": "markdown",
   "metadata": {
    "colab_type": "text",
    "id": "7ZuigSoBOgNw"
   },
   "source": [
    "# Training\n",
    "\n",
    "This treats the spectrograms of the words like images"
   ]
  },
  {
   "cell_type": "code",
   "execution_count": 1,
   "metadata": {
    "colab": {},
    "colab_type": "code",
    "executionInfo": {
     "elapsed": 2399,
     "status": "ok",
     "timestamp": 1599330912465,
     "user": {
      "displayName": "Chris Greening",
      "photoUrl": "https://lh3.googleusercontent.com/a-/AOh14GhzkETr7y27ciZfW4lregDo2YPFRrA30ouOuL6TIQ=s64",
      "userId": "14199137355227635747"
     },
     "user_tz": -60
    },
    "id": "aa6niXGfOgNx"
   },
   "outputs": [],
   "source": [
    "# Import all the things we will need\n",
    "import datetime\n",
    "import tensorflow as tf\n",
    "import numpy as np\n",
    "from tensorflow import keras\n",
    "from tensorflow.keras import regularizers\n",
    "from tensorflow.keras.models import Sequential\n",
    "from tensorflow.keras.layers import Dense, Conv2D, Flatten, Dropout, MaxPooling2D\n",
    "from tensorflow.data import Dataset\n",
    "import matplotlib.pyplot as plt"
   ]
  },
  {
   "cell_type": "code",
   "execution_count": 2,
   "metadata": {
    "colab": {},
    "colab_type": "code",
    "executionInfo": {
     "elapsed": 25328,
     "status": "ok",
     "timestamp": 1599324137392,
     "user": {
      "displayName": "Chris Greening",
      "photoUrl": "https://lh3.googleusercontent.com/a-/AOh14GhzkETr7y27ciZfW4lregDo2YPFRrA30ouOuL6TIQ=s64",
      "userId": "14199137355227635747"
     },
     "user_tz": -60
    },
    "id": "QKSFOZvEOgN3"
   },
   "outputs": [],
   "source": [
    "# Load the TensorBoard notebook extension - if you want it inline - this can be a bit flaky...\n",
    "# %load_ext tensorboard\n",
    "# %reload_ext tensorboard"
   ]
  },
  {
   "cell_type": "code",
   "execution_count": 3,
   "metadata": {},
   "outputs": [],
   "source": [
    "wake_word = 'hikiwi'\n",
    "train_cache_file_name = \"/tmp/wake-word-cache/train-data\"\n",
    "valid_cache_file_name = \"/tmp/wake-word-cache/valid-data\"\n",
    "test_cache_file_name = \"/tmp/wake-word-cache/test-data\""
   ]
  },
  {
   "cell_type": "code",
   "execution_count": 4,
   "metadata": {
    "colab": {},
    "colab_type": "code",
    "executionInfo": {
     "elapsed": 25328,
     "status": "ok",
     "timestamp": 1599324137392,
     "user": {
      "displayName": "Chris Greening",
      "photoUrl": "https://lh3.googleusercontent.com/a-/AOh14GhzkETr7y27ciZfW4lregDo2YPFRrA30ouOuL6TIQ=s64",
      "userId": "14199137355227635747"
     },
     "user_tz": -60
    },
    "id": "QKSFOZvEOgN3"
   },
   "outputs": [],
   "source": [
    "# clear out any old logs\n",
    "!rm -rf ./logs/ \n",
    "!rm -rf /tmp/wake-word-cache/"
   ]
  },
  {
   "cell_type": "code",
   "execution_count": 5,
   "metadata": {
    "colab": {},
    "colab_type": "code",
    "executionInfo": {
     "elapsed": 5271,
     "status": "ok",
     "timestamp": 1599324142683,
     "user": {
      "displayName": "Chris Greening",
      "photoUrl": "https://lh3.googleusercontent.com/a-/AOh14GhzkETr7y27ciZfW4lregDo2YPFRrA30ouOuL6TIQ=s64",
      "userId": "14199137355227635747"
     },
     "user_tz": -60
    },
    "id": "ERCnsdwMOgN9"
   },
   "outputs": [],
   "source": [
    "# Load up the sprectrograms and labels\n",
    "training_spectrogram = np.load('merged-training_spectrogram.npz')\n",
    "validation_spectrogram = np.load('merged-validation_spectrogram.npz')\n",
    "test_spectrogram = np.load('merged-test_spectrogram.npz')"
   ]
  },
  {
   "cell_type": "code",
   "execution_count": 6,
   "metadata": {
    "colab": {},
    "colab_type": "code",
    "executionInfo": {
     "elapsed": 30633,
     "status": "ok",
     "timestamp": 1599324168055,
     "user": {
      "displayName": "Chris Greening",
      "photoUrl": "https://lh3.googleusercontent.com/a-/AOh14GhzkETr7y27ciZfW4lregDo2YPFRrA30ouOuL6TIQ=s64",
      "userId": "14199137355227635747"
     },
     "user_tz": -60
    },
    "id": "4L_A47mDOgN_"
   },
   "outputs": [],
   "source": [
    "# extract the data from the files\n",
    "X_train = training_spectrogram['X']\n",
    "Y_train_cats = training_spectrogram['Y']\n",
    "X_validate = validation_spectrogram['X']\n",
    "Y_validate_cats = validation_spectrogram['Y']\n",
    "X_test = test_spectrogram['X']\n",
    "Y_test_cats = test_spectrogram['Y']\n",
    "\n",
    "# get the width and height of the spectrogram \"image\"\n",
    "IMG_WIDTH=X_train[0].shape[0]\n",
    "IMG_HEIGHT=X_train[0].shape[1]"
   ]
  },
  {
   "cell_type": "code",
   "execution_count": 7,
   "metadata": {
    "colab": {
     "base_uri": "https://localhost:8080/",
     "height": 518
    },
    "colab_type": "code",
    "executionInfo": {
     "elapsed": 30626,
     "status": "ok",
     "timestamp": 1599324168057,
     "user": {
      "displayName": "Chris Greening",
      "photoUrl": "https://lh3.googleusercontent.com/a-/AOh14GhzkETr7y27ciZfW4lregDo2YPFRrA30ouOuL6TIQ=s64",
      "userId": "14199137355227635747"
     },
     "user_tz": -60
    },
    "id": "IquLGwB6pSwR",
    "outputId": "653df24c-9a30-4e01-9aa1-b1f213aecf8e"
   },
   "outputs": [],
   "source": [
    "# plot a distribution of the words\n",
    "# plt.hist(Y_train_cats, bins=range(0,len(words)+1), align='left')"
   ]
  },
  {
   "cell_type": "code",
   "execution_count": 8,
   "metadata": {
    "colab": {
     "base_uri": "https://localhost:8080/",
     "height": 683
    },
    "colab_type": "code",
    "executionInfo": {
     "elapsed": 27938,
     "status": "ok",
     "timestamp": 1599324168058,
     "user": {
      "displayName": "Chris Greening",
      "photoUrl": "https://lh3.googleusercontent.com/a-/AOh14GhzkETr7y27ciZfW4lregDo2YPFRrA30ouOuL6TIQ=s64",
      "userId": "14199137355227635747"
     },
     "user_tz": -60
    },
    "id": "ZXHaeU4uqLnM",
    "outputId": "48fb554d-8f2b-450d-db45-233bf350b197"
   },
   "outputs": [
    {
     "name": "stdout",
     "output_type": "stream",
     "text": [
      "['_background' 'backward' 'bed' 'bird' 'cat' 'dog' 'down' 'eight' 'five'\n",
      " 'follow' 'forward' 'four' 'go' 'happy' 'hikiwi' 'house' 'learn' 'left'\n",
      " 'marvin' 'nine' 'no' 'off' 'on' 'one' 'right' 'seven' 'sheila' 'six'\n",
      " 'stop' 'three' 'tree' 'two' 'up' 'visual' 'wow' 'yes' 'zero'] [51625   635   683   734   655   725  1387  1373  1471   591   603  1331\n",
      "  1332   709 33618   779   540  1410   720  1438  1438  1390  1398  1396\n",
      "  1291  1462   712  1386  1423  1352   564  1442  1229   593   722  1475\n",
      "  1506]\n"
     ]
    },
    {
     "data": {
      "text/plain": [
       "{'_background': 51625,\n",
       " 'backward': 635,\n",
       " 'bed': 683,\n",
       " 'bird': 734,\n",
       " 'cat': 655,\n",
       " 'dog': 725,\n",
       " 'down': 1387,\n",
       " 'eight': 1373,\n",
       " 'five': 1471,\n",
       " 'follow': 591,\n",
       " 'forward': 603,\n",
       " 'four': 1331,\n",
       " 'go': 1332,\n",
       " 'happy': 709,\n",
       " 'hikiwi': 33618,\n",
       " 'house': 779,\n",
       " 'learn': 540,\n",
       " 'left': 1410,\n",
       " 'marvin': 720,\n",
       " 'nine': 1438,\n",
       " 'no': 1438,\n",
       " 'off': 1390,\n",
       " 'on': 1398,\n",
       " 'one': 1396,\n",
       " 'right': 1291,\n",
       " 'seven': 1462,\n",
       " 'sheila': 712,\n",
       " 'six': 1386,\n",
       " 'stop': 1423,\n",
       " 'three': 1352,\n",
       " 'tree': 564,\n",
       " 'two': 1442,\n",
       " 'up': 1229,\n",
       " 'visual': 593,\n",
       " 'wow': 722,\n",
       " 'yes': 1475,\n",
       " 'zero': 1506}"
      ]
     },
     "execution_count": 8,
     "metadata": {},
     "output_type": "execute_result"
    }
   ],
   "source": [
    "unique, counts = np.unique(Y_train_cats, return_counts=True)\n",
    "print(unique, counts)\n",
    "dict(zip([i for i in unique], counts))"
   ]
  },
  {
   "cell_type": "code",
   "execution_count": 9,
   "metadata": {
    "colab": {},
    "colab_type": "code",
    "executionInfo": {
     "elapsed": 1473,
     "status": "ok",
     "timestamp": 1599324169547,
     "user": {
      "displayName": "Chris Greening",
      "photoUrl": "https://lh3.googleusercontent.com/a-/AOh14GhzkETr7y27ciZfW4lregDo2YPFRrA30ouOuL6TIQ=s64",
      "userId": "14199137355227635747"
     },
     "user_tz": -60
    },
    "id": "946JWm6Fe2Wd"
   },
   "outputs": [],
   "source": [
    "Y_train = [1 if y == wake_word else 0 for y in Y_train_cats]\n",
    "Y_validate = [1 if y == wake_word else 0 for y in Y_validate_cats]\n",
    "Y_test = [1 if y == wake_word else 0 for y in Y_test_cats]"
   ]
  },
  {
   "cell_type": "code",
   "execution_count": 10,
   "metadata": {},
   "outputs": [],
   "source": [
    "Y_train_cats=[]\n",
    "Y_validate_cats=[]\n",
    "Y_test_cats=[]\n",
    "training_spectrogram = None\n",
    "validation_spectrogram = None\n",
    "test_spectrogram = None"
   ]
  },
  {
   "cell_type": "code",
   "execution_count": 11,
   "metadata": {
    "colab": {},
    "colab_type": "code",
    "executionInfo": {
     "elapsed": 1473,
     "status": "ok",
     "timestamp": 1599324169547,
     "user": {
      "displayName": "Chris Greening",
      "photoUrl": "https://lh3.googleusercontent.com/a-/AOh14GhzkETr7y27ciZfW4lregDo2YPFRrA30ouOuL6TIQ=s64",
      "userId": "14199137355227635747"
     },
     "user_tz": -60
    },
    "id": "946JWm6Fe2Wd"
   },
   "outputs": [
    {
     "data": {
      "text/plain": [
       "(array([89520., 33618.]),\n",
       " array([0., 1., 2.]),\n",
       " <BarContainer object of 2 artists>)"
      ]
     },
     "execution_count": 11,
     "metadata": {},
     "output_type": "execute_result"
    },
    {
     "data": {
      "image/png": "[encoded data removed]",
      "text/plain": [
       "<Figure size 640x480 with 1 Axes>"
      ]
     },
     "metadata": {},
     "output_type": "display_data"
    }
   ],
   "source": [
    "plt.hist(Y_train, bins=range(0,3), align='left')"
   ]
  },
  {
   "cell_type": "code",
   "execution_count": 12,
   "metadata": {
    "colab": {},
    "colab_type": "code",
    "executionInfo": {
     "elapsed": 7073,
     "status": "ok",
     "timestamp": 1599324175154,
     "user": {
      "displayName": "Chris Greening",
      "photoUrl": "https://lh3.googleusercontent.com/a-/AOh14GhzkETr7y27ciZfW4lregDo2YPFRrA30ouOuL6TIQ=s64",
      "userId": "14199137355227635747"
     },
     "user_tz": -60
    },
    "id": "-60v8-m3OgOF"
   },
   "outputs": [
    {
     "name": "stderr",
     "output_type": "stream",
     "text": [
      "2023-05-02 02:14:07.824254: W tensorflow/tsl/framework/cpu_allocator_impl.cc:83] Allocation of 3155780664 exceeds 10% of free system memory.\n"
     ]
    }
   ],
   "source": [
    "# create the datasets for training\n",
    "batch_size = 32\n",
    "\n",
    "train_dataset = Dataset.from_tensor_slices(\n",
    "    (X_train, Y_train)\n",
    ").repeat(\n",
    "    count=-1\n",
    ").shuffle(\n",
    "    2048, reshuffle_each_iteration=True\n",
    ").batch(\n",
    "    batch_size\n",
    ")\n",
    "\n",
    "# validation_dataset = Dataset.from_tensor_slices((X_validate, Y_validate)).batch(X_validate.shape[0])\n",
    "\n",
    "# test_dataset = Dataset.from_tensor_slices((X_test, Y_test)).batch(len(X_test))\n",
    "\n"
   ]
  },
  {
   "cell_type": "code",
   "execution_count": 13,
   "metadata": {},
   "outputs": [
    {
     "name": "stderr",
     "output_type": "stream",
     "text": [
      "2023-05-02 02:14:09.749469: W tensorflow/tsl/framework/cpu_allocator_impl.cc:83] Allocation of 787779092 exceeds 10% of free system memory.\n",
      "2023-05-02 02:14:10.238754: W tensorflow/tsl/framework/cpu_allocator_impl.cc:83] Allocation of 790880080 exceeds 10% of free system memory.\n"
     ]
    }
   ],
   "source": [
    "validation_dataset = Dataset.from_tensor_slices((X_validate, Y_validate)).batch(128)\n",
    "\n",
    "test_dataset = Dataset.from_tensor_slices((X_test, Y_test)).batch(128)"
   ]
  },
  {
   "cell_type": "code",
   "execution_count": 14,
   "metadata": {
    "colab": {
     "base_uri": "https://localhost:8080/",
     "height": 593
    },
    "colab_type": "code",
    "executionInfo": {
     "elapsed": 1497,
     "status": "ok",
     "timestamp": 1599324179335,
     "user": {
      "displayName": "Chris Greening",
      "photoUrl": "https://lh3.googleusercontent.com/a-/AOh14GhzkETr7y27ciZfW4lregDo2YPFRrA30ouOuL6TIQ=s64",
      "userId": "14199137355227635747"
     },
     "user_tz": -60
    },
    "id": "Wbnijb64OgOM",
    "outputId": "29e1706e-28e1-407d-b9dd-4f0839af6246"
   },
   "outputs": [
    {
     "name": "stdout",
     "output_type": "stream",
     "text": [
      "Model: \"sequential\"\n",
      "_________________________________________________________________\n",
      " Layer (type)                Output Shape              Param #   \n",
      "=================================================================\n",
      " conv_layer1 (Conv2D)        (None, 149, 43, 4)        40        \n",
      "                                                                 \n",
      " reshape (Reshape)           (None, 149, 172)          0         \n",
      "                                                                 \n",
      " gru (GRU)                   (None, 32)                19776     \n",
      "                                                                 \n",
      " hidden_layer1 (Dense)       (None, 32)                1056      \n",
      "                                                                 \n",
      " output (Dense)              (None, 1)                 33        \n",
      "                                                                 \n",
      "=================================================================\n",
      "Total params: 20,905\n",
      "Trainable params: 20,905\n",
      "Non-trainable params: 0\n",
      "_________________________________________________________________\n"
     ]
    }
   ],
   "source": [
    "# model = Sequential([\n",
    "#     Conv2D(4, 3, \n",
    "#            padding='same',\n",
    "#            activation='relu',\n",
    "#            kernel_regularizer=regularizers.l2(0.001),\n",
    "#            name='conv_layer1',\n",
    "#            input_shape=(IMG_WIDTH, IMG_HEIGHT, 1)),\n",
    "#     MaxPooling2D(name='max_pooling1', pool_size=(2,2)),\n",
    "#     Conv2D(4, 3, \n",
    "#            padding='same',\n",
    "#            activation='relu',\n",
    "#            kernel_regularizer=regularizers.l2(0.001),\n",
    "#            name='conv_layer2'),\n",
    "#     MaxPooling2D(name='max_pooling2', pool_size=(2,2)),\n",
    "#     Flatten(),\n",
    "#     Dropout(0.2),\n",
    "#     Dense(\n",
    "#         40,\n",
    "#         activation='relu',\n",
    "#         kernel_regularizer=regularizers.l2(0.001),\n",
    "#         name='hidden_layer1'\n",
    "#     ),\n",
    "#     Dense(\n",
    "#         1, \n",
    "#         activation='sigmoid',\n",
    "#         kernel_regularizer=regularizers.l2(0.001),\n",
    "#         name='output'\n",
    "#     )\n",
    "# ])\n",
    "\n",
    "model = Sequential([\n",
    "    Conv2D(4, 3, \n",
    "           padding='same',\n",
    "           activation='relu',\n",
    "           kernel_regularizer=regularizers.l2(0.001),\n",
    "           name='conv_layer1',\n",
    "           input_shape=(IMG_WIDTH, IMG_HEIGHT, 1)),\n",
    "#     MaxPooling2D(name='max_pooling1', pool_size=(2,2)),\n",
    "    tf.keras.layers.Reshape((IMG_WIDTH, 43*4)),\n",
    "    tf.keras.layers.GRU(32, dropout=0.3),\n",
    "    Dense(\n",
    "        32,\n",
    "        activation='relu',\n",
    "        kernel_regularizer=regularizers.l2(0.001),\n",
    "        name='hidden_layer1'\n",
    "    ),\n",
    "#     Dropout(0.2),\n",
    "#     Dense(\n",
    "#         32,\n",
    "#         activation='relu',\n",
    "#         kernel_regularizer=regularizers.l2(0.001),\n",
    "#         name='hidden_layer2'\n",
    "#     ),\n",
    "    Dense(\n",
    "        1, \n",
    "        activation='sigmoid',\n",
    "        kernel_regularizer=regularizers.l2(0.001),\n",
    "        name='output'\n",
    "    )\n",
    "])\n",
    "\n",
    "model.summary()"
   ]
  },
  {
   "cell_type": "code",
   "execution_count": 15,
   "metadata": {
    "colab": {},
    "colab_type": "code",
    "executionInfo": {
     "elapsed": 970,
     "status": "ok",
     "timestamp": 1599324186691,
     "user": {
      "displayName": "Chris Greening",
      "photoUrl": "https://lh3.googleusercontent.com/a-/AOh14GhzkETr7y27ciZfW4lregDo2YPFRrA30ouOuL6TIQ=s64",
      "userId": "14199137355227635747"
     },
     "user_tz": -60
    },
    "id": "gnEC2AOdOgOO"
   },
   "outputs": [],
   "source": [
    "epochs=30\n",
    "\n",
    "model.compile(optimizer='adam',\n",
    "              loss=tf.keras.losses.BinaryCrossentropy(),\n",
    "              metrics=['accuracy'])"
   ]
  },
  {
   "cell_type": "markdown",
   "metadata": {
    "colab_type": "text",
    "id": "pUzYHZJ2OgOR"
   },
   "source": [
    "# Logging to tensorboard\n",
    "We log the training stats along with the confusion matrix of the test data - should we be using the validation data"
   ]
  },
  {
   "cell_type": "code",
   "execution_count": 16,
   "metadata": {
    "colab": {},
    "colab_type": "code",
    "executionInfo": {
     "elapsed": 1008,
     "status": "ok",
     "timestamp": 1599324189567,
     "user": {
      "displayName": "Chris Greening",
      "photoUrl": "https://lh3.googleusercontent.com/a-/AOh14GhzkETr7y27ciZfW4lregDo2YPFRrA30ouOuL6TIQ=s64",
      "userId": "14199137355227635747"
     },
     "user_tz": -60
    },
    "id": "cwBFfW6TOgOR"
   },
   "outputs": [],
   "source": [
    "log_dir = \"logs/fit/\" + datetime.datetime.now().strftime(\"%Y%m%d-%H%M%S\")\n",
    "tensorboard_callback = tf.keras.callbacks.TensorBoard(log_dir=log_dir, histogram_freq=1)"
   ]
  },
  {
   "cell_type": "markdown",
   "metadata": {
    "colab_type": "text",
    "id": "me2W-gteOgOT"
   },
   "source": [
    "# Train model"
   ]
  },
  {
   "cell_type": "code",
   "execution_count": 17,
   "metadata": {
    "colab": {
     "base_uri": "https://localhost:8080/",
     "height": 829
    },
    "colab_type": "code",
    "executionInfo": {
     "elapsed": 233329,
     "status": "ok",
     "timestamp": 1599324428053,
     "user": {
      "displayName": "Chris Greening",
      "photoUrl": "https://lh3.googleusercontent.com/a-/AOh14GhzkETr7y27ciZfW4lregDo2YPFRrA30ouOuL6TIQ=s64",
      "userId": "14199137355227635747"
     },
     "user_tz": -60
    },
    "id": "9s--XYYIOgOW",
    "outputId": "d623eb95-df61-4e2c-9acd-a82e19aaf5e9"
   },
   "outputs": [
    {
     "name": "stderr",
     "output_type": "stream",
     "text": [
      "2023-05-02 02:14:11.344844: W tensorflow/tsl/framework/cpu_allocator_impl.cc:83] Allocation of 3155780664 exceeds 10% of free system memory.\n"
     ]
    },
    {
     "name": "stdout",
     "output_type": "stream",
     "text": [
      "Epoch 1/30\n",
      "3848/3848 [==============================] - ETA: 0s - loss: 0.0752 - accuracy: 0.9738"
     ]
    },
    {
     "name": "stderr",
     "output_type": "stream",
     "text": [
      "2023-05-02 02:26:26.977944: W tensorflow/tsl/framework/cpu_allocator_impl.cc:83] Allocation of 787779092 exceeds 10% of free system memory.\n",
      "WARNING:absl:Found untraced functions such as _jit_compiled_convolution_op, _update_step_xla, gru_cell_layer_call_fn, gru_cell_layer_call_and_return_conditional_losses while saving (showing 4 of 4). These functions will not be directly callable after loading.\n"
     ]
    },
    {
     "name": "stdout",
     "output_type": "stream",
     "text": [
      "INFO:tensorflow:Assets written to: checkpoint-v2.model/assets\n"
     ]
    },
    {
     "name": "stderr",
     "output_type": "stream",
     "text": [
      "INFO:tensorflow:Assets written to: checkpoint-v2.model/assets\n"
     ]
    },
    {
     "name": "stdout",
     "output_type": "stream",
     "text": [
      "3848/3848 [==============================] - 740s 191ms/step - loss: 0.0752 - accuracy: 0.9738 - val_loss: 0.0104 - val_accuracy: 1.0000\n",
      "Epoch 2/30\n",
      "3848/3848 [==============================] - 728s 189ms/step - loss: 0.0133 - accuracy: 0.9988 - val_loss: 0.0089 - val_accuracy: 1.0000\n",
      "Epoch 3/30\n",
      "3848/3848 [==============================] - 726s 189ms/step - loss: 0.0108 - accuracy: 0.9991 - val_loss: 0.0091 - val_accuracy: 1.0000\n",
      "Epoch 4/30\n",
      "3848/3848 [==============================] - 727s 189ms/step - loss: 0.0094 - accuracy: 0.9994 - val_loss: 0.0072 - val_accuracy: 1.0000\n",
      "Epoch 5/30\n",
      "3848/3848 [==============================] - 724s 188ms/step - loss: 0.0080 - accuracy: 0.9996 - val_loss: 0.0062 - val_accuracy: 1.0000\n",
      "Epoch 6/30\n",
      "3848/3848 [==============================] - 723s 188ms/step - loss: 0.0078 - accuracy: 0.9996 - val_loss: 0.0060 - val_accuracy: 1.0000\n",
      "Epoch 7/30\n",
      "3848/3848 [==============================] - 726s 189ms/step - loss: 0.0066 - accuracy: 0.9998 - val_loss: 0.0054 - val_accuracy: 1.0000\n",
      "Epoch 8/30\n",
      "3848/3848 [==============================] - 722s 188ms/step - loss: 0.0071 - accuracy: 0.9996 - val_loss: 0.0053 - val_accuracy: 1.0000\n",
      "Epoch 9/30\n",
      "3848/3848 [==============================] - 723s 188ms/step - loss: 0.0065 - accuracy: 0.9997 - val_loss: 0.0052 - val_accuracy: 1.0000\n",
      "Epoch 10/30\n",
      "3848/3848 [==============================] - 722s 188ms/step - loss: 0.0063 - accuracy: 0.9997 - val_loss: 0.0049 - val_accuracy: 1.0000\n",
      "Epoch 11/30\n",
      "3848/3848 [==============================] - 722s 188ms/step - loss: 0.0056 - accuracy: 0.9998 - val_loss: 0.0049 - val_accuracy: 1.0000\n",
      "Epoch 12/30\n",
      "3848/3848 [==============================] - 718s 187ms/step - loss: 0.0059 - accuracy: 0.9997 - val_loss: 0.0054 - val_accuracy: 1.0000\n",
      "Epoch 13/30\n",
      "3848/3848 [==============================] - 718s 187ms/step - loss: 0.0058 - accuracy: 0.9998 - val_loss: 0.0050 - val_accuracy: 1.0000\n",
      "Epoch 14/30\n",
      "3848/3848 [==============================] - 722s 188ms/step - loss: 0.0061 - accuracy: 0.9997 - val_loss: 0.0053 - val_accuracy: 1.0000\n",
      "Epoch 15/30\n",
      "3848/3848 [==============================] - 724s 188ms/step - loss: 0.0053 - accuracy: 0.9999 - val_loss: 0.0071 - val_accuracy: 1.0000\n",
      "Epoch 16/30\n",
      "3848/3848 [==============================] - 719s 187ms/step - loss: 0.0056 - accuracy: 0.9997 - val_loss: 0.0048 - val_accuracy: 1.0000\n",
      "Epoch 17/30\n",
      "3848/3848 [==============================] - 718s 187ms/step - loss: 0.0052 - accuracy: 0.9999 - val_loss: 0.0044 - val_accuracy: 1.0000\n",
      "Epoch 18/30\n",
      "3848/3848 [==============================] - 717s 186ms/step - loss: 0.0052 - accuracy: 0.9998 - val_loss: 0.0046 - val_accuracy: 1.0000\n",
      "Epoch 19/30\n",
      "3848/3848 [==============================] - 716s 186ms/step - loss: 0.0050 - accuracy: 0.9999 - val_loss: 0.0045 - val_accuracy: 1.0000\n",
      "Epoch 20/30\n",
      "3848/3848 [==============================] - 717s 186ms/step - loss: 0.0050 - accuracy: 0.9999 - val_loss: 0.0044 - val_accuracy: 1.0000\n",
      "Epoch 21/30\n",
      "3848/3848 [==============================] - 719s 187ms/step - loss: 0.0046 - accuracy: 0.9999 - val_loss: 0.0042 - val_accuracy: 1.0000\n",
      "Epoch 22/30\n",
      "3848/3848 [==============================] - 715s 186ms/step - loss: 0.0048 - accuracy: 0.9998 - val_loss: 0.0042 - val_accuracy: 1.0000\n",
      "Epoch 23/30\n",
      "3848/3848 [==============================] - 713s 185ms/step - loss: 0.0051 - accuracy: 0.9998 - val_loss: 0.0042 - val_accuracy: 1.0000\n",
      "Epoch 24/30\n",
      "3848/3848 [==============================] - 716s 186ms/step - loss: 0.0045 - accuracy: 0.9999 - val_loss: 0.0040 - val_accuracy: 1.0000\n",
      "Epoch 25/30\n",
      "3848/3848 [==============================] - 715s 186ms/step - loss: 0.0048 - accuracy: 0.9998 - val_loss: 0.0041 - val_accuracy: 1.0000\n",
      "Epoch 26/30\n",
      "3848/3848 [==============================] - 716s 186ms/step - loss: 0.0046 - accuracy: 0.9999 - val_loss: 0.0040 - val_accuracy: 1.0000\n",
      "Epoch 27/30\n",
      "3848/3848 [==============================] - 712s 185ms/step - loss: 0.0046 - accuracy: 0.9999 - val_loss: 0.0039 - val_accuracy: 1.0000\n",
      "Epoch 28/30\n",
      "3848/3848 [==============================] - 710s 184ms/step - loss: 0.0046 - accuracy: 0.9999 - val_loss: 0.0041 - val_accuracy: 1.0000\n",
      "Epoch 29/30\n",
      "3848/3848 [==============================] - 714s 186ms/step - loss: 0.0043 - accuracy: 0.9999 - val_loss: 0.0038 - val_accuracy: 1.0000\n",
      "Epoch 30/30\n",
      "3848/3848 [==============================] - 710s 185ms/step - loss: 0.0051 - accuracy: 0.9998 - val_loss: 0.0038 - val_accuracy: 1.0000\n"
     ]
    }
   ],
   "source": [
    "model_checkpoint_callback = tf.keras.callbacks.ModelCheckpoint(\n",
    "    filepath=\"checkpoint-v2.model\",\n",
    "    monitor='val_accuracy',\n",
    "    mode='max',\n",
    "    save_best_only=True)\n",
    "\n",
    "history = model.fit(\n",
    "    train_dataset,\n",
    "    steps_per_epoch=len(X_train) // batch_size,\n",
    "    epochs=epochs,\n",
    "    validation_data=validation_dataset,\n",
    "    validation_steps=1,\n",
    "    callbacks=[tensorboard_callback, model_checkpoint_callback]\n",
    ")"
   ]
  },
  {
   "cell_type": "code",
   "execution_count": 18,
   "metadata": {
    "colab": {
     "base_uri": "https://localhost:8080/",
     "height": 163
    },
    "colab_type": "code",
    "executionInfo": {
     "elapsed": 233637,
     "status": "ok",
     "timestamp": 1599324431300,
     "user": {
      "displayName": "Chris Greening",
      "photoUrl": "https://lh3.googleusercontent.com/a-/AOh14GhzkETr7y27ciZfW4lregDo2YPFRrA30ouOuL6TIQ=s64",
      "userId": "14199137355227635747"
     },
     "user_tz": -60
    },
    "id": "v1u5dvHuYpsg",
    "outputId": "90a474da-39d1-49a8-8887-ab725af57795"
   },
   "outputs": [
    {
     "name": "stderr",
     "output_type": "stream",
     "text": [
      "WARNING:absl:Found untraced functions such as _jit_compiled_convolution_op, _update_step_xla, gru_cell_layer_call_fn, gru_cell_layer_call_and_return_conditional_losses while saving (showing 4 of 4). These functions will not be directly callable after loading.\n"
     ]
    },
    {
     "name": "stdout",
     "output_type": "stream",
     "text": [
      "INFO:tensorflow:Assets written to: trained-v2.model/assets\n"
     ]
    },
    {
     "name": "stderr",
     "output_type": "stream",
     "text": [
      "INFO:tensorflow:Assets written to: trained-v2.model/assets\n"
     ]
    }
   ],
   "source": [
    "model.save(\"trained-v2.model\")"
   ]
  },
  {
   "cell_type": "markdown",
   "metadata": {
    "colab_type": "text",
    "id": "s8Vok4uqFv6_"
   },
   "source": [
    "# Testing the Model"
   ]
  },
  {
   "cell_type": "code",
   "execution_count": 19,
   "metadata": {
    "colab": {
     "base_uri": "https://localhost:8080/",
     "height": 172
    },
    "colab_type": "code",
    "executionInfo": {
     "elapsed": 1007,
     "status": "error",
     "timestamp": 1599330905822,
     "user": {
      "displayName": "Chris Greening",
      "photoUrl": "https://lh3.googleusercontent.com/a-/AOh14GhzkETr7y27ciZfW4lregDo2YPFRrA30ouOuL6TIQ=s64",
      "userId": "14199137355227635747"
     },
     "user_tz": -60
    },
    "id": "21m-pPzgFmhD",
    "outputId": "e9cd084b-9eb9-4818-bf49-4c61f7c55d7f"
   },
   "outputs": [],
   "source": [
    "model2 =  keras.models.load_model(\"checkpoint-v2.model\")"
   ]
  },
  {
   "cell_type": "code",
   "execution_count": 20,
   "metadata": {
    "colab": {
     "base_uri": "https://localhost:8080/",
     "height": 35
    },
    "colab_type": "code",
    "executionInfo": {
     "elapsed": 1876,
     "status": "ok",
     "timestamp": 1599310165183,
     "user": {
      "displayName": "Chris Greening",
      "photoUrl": "https://lh3.googleusercontent.com/a-/AOh14GhzkETr7y27ciZfW4lregDo2YPFRrA30ouOuL6TIQ=s64",
      "userId": "14199137355227635747"
     },
     "user_tz": -60
    },
    "id": "74brwGyVGZ7B",
    "outputId": "042177d6-4a6b-4873-84dd-a26e3925d337"
   },
   "outputs": [
    {
     "name": "stdout",
     "output_type": "stream",
     "text": [
      "242/242 [==============================] - 37s 152ms/step - loss: 0.0118 - accuracy: 0.9996\n"
     ]
    }
   ],
   "source": [
    "results = model2.evaluate(X_test, tf.cast(Y_test, tf.float32), batch_size=128)"
   ]
  },
  {
   "cell_type": "code",
   "execution_count": null,
   "metadata": {
    "colab": {
     "base_uri": "https://localhost:8080/",
     "height": 71
    },
    "colab_type": "code",
    "executionInfo": {
     "elapsed": 838,
     "status": "ok",
     "timestamp": 1599308975138,
     "user": {
      "displayName": "Chris Greening",
      "photoUrl": "https://lh3.googleusercontent.com/a-/AOh14GhzkETr7y27ciZfW4lregDo2YPFRrA30ouOuL6TIQ=s64",
      "userId": "14199137355227635747"
     },
     "user_tz": -60
    },
    "id": "uRkkvWOKM6hv",
    "outputId": "41cee6e7-05b2-4b22-e377-e5748e2fc216"
   },
   "outputs": [],
   "source": [
    "predictions = model2.predict_on_batch(X_test)\n",
    "decision = [1 if p > 0.5 else 0 for p in predictions]\n",
    "tf.math.confusion_matrix(Y_test, decision)"
   ]
  },
  {
   "cell_type": "code",
   "execution_count": null,
   "metadata": {},
   "outputs": [],
   "source": [
    "predictions = model2.predict_on_batch(X_test)\n",
    "decision = [1 if p > 0.9 else 0 for p in predictions]\n",
    "tf.math.confusion_matrix(Y_test, decision)"
   ]
  },
  {
   "cell_type": "markdown",
   "metadata": {},
   "source": [
    "# Fully train the model"
   ]
  },
  {
   "cell_type": "code",
   "execution_count": null,
   "metadata": {
    "colab": {
     "base_uri": "https://localhost:8080/",
     "height": 244
    },
    "colab_type": "code",
    "executionInfo": {
     "elapsed": 511,
     "status": "error",
     "timestamp": 1599234663798,
     "user": {
      "displayName": "Chris Greening",
      "photoUrl": "https://lh3.googleusercontent.com/a-/AOh14GhzkETr7y27ciZfW4lregDo2YPFRrA30ouOuL6TIQ=s64",
      "userId": "14199137355227635747"
     },
     "user_tz": -60
    },
    "id": "fZItwJx7yWpY",
    "outputId": "9988d1a0-bc7b-469a-9c2c-d6ec3750512c"
   },
   "outputs": [],
   "source": [
    "complete_train_X = np.concatenate((X_train, X_validate, X_test))\n",
    "complete_train_Y = np.concatenate((Y_train, Y_validate, Y_test))\n",
    "\n",
    "complete_train_dataset = Dataset.from_tensor_slices((complete_train_X, complete_train_Y)).repeat(count=-1).shuffle(300000).batch(batch_size)"
   ]
  },
  {
   "cell_type": "code",
   "execution_count": null,
   "metadata": {},
   "outputs": [],
   "source": [
    "history = model2.fit(\n",
    "    complete_train_dataset,\n",
    "    steps_per_epoch=len(complete_train_X) // batch_size,\n",
    "    epochs=5\n",
    ")"
   ]
  },
  {
   "cell_type": "code",
   "execution_count": null,
   "metadata": {},
   "outputs": [],
   "source": [
    "print(history)"
   ]
  },
  {
   "cell_type": "code",
   "execution_count": null,
   "metadata": {},
   "outputs": [],
   "source": [
    "# predictions = model2.predict_on_batch(complete_train_X)\n",
    "# decision = [1 if p > 0.5 else 0 for p in predictions]\n",
    "# tf.math.confusion_matrix(complete_train_Y, decision)"
   ]
  },
  {
   "cell_type": "code",
   "execution_count": null,
   "metadata": {},
   "outputs": [],
   "source": [
    "# decision = [1 if p > 0.95 else 0 for p in predictions]\n",
    "# tf.math.confusion_matrix(complete_train_Y, decision)"
   ]
  },
  {
   "cell_type": "code",
   "execution_count": null,
   "metadata": {
    "tags": []
   },
   "outputs": [],
   "source": [
    "# model2.save(\"fully_trained.model\")"
   ]
  }
 ],
 "metadata": {
  "accelerator": "GPU",
  "colab": {
   "collapsed_sections": [],
   "name": "image_based_training.ipynb",
   "provenance": [],
   "toc_visible": true
  },
  "kernelspec": {
   "display_name": "Python 3 (ipykernel)",
   "language": "python",
   "name": "python3"
  },
  "language_info": {
   "codemirror_mode": {
    "name": "ipython",
    "version": 3
   },
   "file_extension": ".py",
   "mimetype": "text/x-python",
   "name": "python",
   "nbconvert_exporter": "python",
   "pygments_lexer": "ipython3",
   "version": "3.8.16"
  }
 },
 "nbformat": 4,
 "nbformat_minor": 4
}
